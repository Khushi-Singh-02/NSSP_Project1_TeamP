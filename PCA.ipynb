{
 "cells": [
  {
   "cell_type": "code",
   "execution_count": null,
   "id": "0166b682-e838-4ce9-a98e-7f86d1956c9f",
   "metadata": {},
   "outputs": [],
   "source": [
    "import nibabel as nib\n",
    "import numpy as np\n",
    "from sklearn.decomposition import PCA\n",
    "from sklearn.preprocessing import StandardScaler\n",
    "\n",
    "# Load 4D fMRI data for one subject & run (shape = X, Y, Z, T)\n",
    "img = nib.load(\"/neurodesktop-storage/moco_smoothed-4mm.nii.gz\") #passing preprocessed data\n",
    "\n",
    "fmri_data = img.get_fdata()\n",
    "\n",
    "# Transpose to shape: n_timepoints x n_voxels (samples x features)\n",
    "X = masked_data.T\n",
    "\n",
    "# Standardize each voxel's time series\n",
    "scaler = StandardScaler()\n",
    "X_z = scaler.fit_transform(X)\n",
    "\n",
    "# Run PCA\n",
    "pca = PCA()\n",
    "X_pca = pca.fit_transform(X_z)\n"
   ]
  },
  {
   "cell_type": "code",
   "execution_count": null,
   "id": "4ada986c-0477-4ceb-a6c4-0c11328555ac",
   "metadata": {},
   "outputs": [],
   "source": [
    "import matplotlib.pyplot as plt\n",
    "\n",
    "explained = np.cumsum(pca.explained_variance_ratio_)\n",
    "plt.plot(range(1, len(explained)+1), explained)\n",
    "plt.xlabel('Number of components')\n",
    "plt.ylabel('Cumulative explained variance')\n",
    "plt.axhline(0.8, color='r', linestyle='--', label='80% variance')\n",
    "plt.legend()\n",
    "plt.show()\n",
    "\n",
    "# Choose x components, if they cumulatively explain >80% variance\n",
    "n_components = ???\n"
   ]
  },
  {
   "cell_type": "code",
   "execution_count": null,
   "id": "a77f71bb-f8a3-4d8e-b10e-a3800c685a07",
   "metadata": {},
   "outputs": [],
   "source": [
    "#Visualize Each Component (Axial view on anatomy)\n",
    "#Each PCA component is a vector of voxel weights; you can reshape to the original 3D shape (using mask) for visualization.\n",
    "#Overlap onto an anatomical template and plot.\n",
    "anatomy = nib.load('your_anatomy.nii.gz').get_fdata()  # background for display\n",
    "\n",
    "for comp_idx in range(n_components):\n",
    "    weights = np.zeros(mask.shape)\n",
    "    weights[mask] = pca.components_[comp_idx]\n",
    "    # Show middle axial slice\n",
    "    idx = weights.shape[2]//2\n",
    "    plt.figure()\n",
    "    plt.imshow(anatomy[:, :, idx].T, cmap='gray', alpha=0.5, origin='lower')\n",
    "    plt.imshow(weights[:, :, idx].T, cmap='RdBu_r', alpha=0.6, origin='lower')\n",
    "    plt.title(f'PCA Component {comp_idx+1} (axial)')\n",
    "    plt.axis('off')\n",
    "    plt.show()"
   ]
  },
  {
   "cell_type": "code",
   "execution_count": null,
   "id": "9e3561f8-6dfa-437c-a43d-b1682a88949a",
   "metadata": {},
   "outputs": [],
   "source": [
    "#Compute Pairwise Similarity Matrix for First 5 Components\n",
    "\n",
    "from scipy.spatial.distance import pdist, squareform\n",
    "from scipy.stats import pearsonr\n",
    "\n",
    "# Extract first 5 components' spatial maps\n",
    "comp_maps = pca.components_[:5]\n",
    "\n",
    "# Compute similarity (correlation) matrix\n",
    "n = comp_maps.shape[0]\n",
    "sim_matrix = np.zeros((n, n))\n",
    "for i in range(n):\n",
    "    for j in range(n):\n",
    "        sim_matrix[i, j] = pearsonr(comp_maps[i], comp_maps[j])[0]\n",
    "\n",
    "print('Pairwise similarity (correlation) matrix of first 5 components:')\n",
    "print(sim_matrix)"
   ]
  }
 ],
 "metadata": {
  "kernelspec": {
   "display_name": "Python 3 (ipykernel)",
   "language": "python",
   "name": "python3"
  },
  "language_info": {
   "codemirror_mode": {
    "name": "ipython",
    "version": 3
   },
   "file_extension": ".py",
   "mimetype": "text/x-python",
   "name": "python",
   "nbconvert_exporter": "python",
   "pygments_lexer": "ipython3",
   "version": "3.11.6"
  }
 },
 "nbformat": 4,
 "nbformat_minor": 5
}
