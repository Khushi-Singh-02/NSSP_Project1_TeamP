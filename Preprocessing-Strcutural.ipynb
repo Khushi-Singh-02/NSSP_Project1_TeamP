{
 "cells": [
  {
   "cell_type": "code",
   "execution_count": 1,
   "id": "a40a9d30-5d57-46c8-be7f-f5fc60fec70f",
   "metadata": {},
   "outputs": [],
   "source": [
    "%gui wx\n",
    "import sys\n",
    "import os\n",
    "\n",
    "#####################\n",
    "# Import of utils.py functions\n",
    "#####################\n",
    "# Required to get utils.py and access its functions\n",
    "notebook_dir = os.path.abspath(\"\")\n",
    "parent_dir = os.path.abspath(os.path.join(notebook_dir, '..'))\n",
    "sys.path.append(parent_dir)\n",
    "sys.path.append('.')\n",
    "from utils import loadFSL, FSLeyesServer, mkdir_no_exist, interactive_MCQ\n",
    "\n",
    "\n",
    "## Change it if needed!\n",
    "os.environ[\"DIPY_HOME\"] = \"/home/shakeri/Desktop/MyFiles/Data\"\n",
    "\n",
    "\n",
    "#############################\n",
    "# Loading fsl and freesurfer within Neurodesk\n",
    "#############################\n",
    "import lmod\n",
    "await lmod.purge(force=True)\n",
    "await lmod.load('fsl/6.0.7.4')\n",
    "await lmod.load('freesurfer/7.4.1')\n",
    "await lmod.list()\n",
    "\n",
    "####################\n",
    "# Setup FSL path\n",
    "####################\n",
    "loadFSL()\n",
    "\n",
    "###################\n",
    "# Load all relevant libraries for the lab\n",
    "##################\n",
    "import fsl.wrappers\n",
    "from fsl.wrappers import fslmaths\n",
    "\n",
    "import mne_nirs\n",
    "import nilearn\n",
    "from nilearn.datasets import fetch_development_fmri\n",
    "\n",
    "import mne\n",
    "import mne_nirs\n",
    "import dipy\n",
    "from dipy.data import fetch_bundles_2_subjects, read_bundles_2_subjects\n",
    "import xml.etree.ElementTree as ET\n",
    "import os.path as op\n",
    "import nibabel as nib\n",
    "import glob\n",
    "\n",
    "import ants\n",
    "\n",
    "import openneuro\n",
    "from mne.datasets import sample\n",
    "from mne_bids import BIDSPath, read_raw_bids, print_dir_tree, make_report\n",
    "\n",
    "import requests\n",
    "import urllib.request\n",
    "from tqdm import tqdm\n",
    "\n",
    "# FSL function wrappers which we will call from python directly\n",
    "from fsl.wrappers import fast, bet\n",
    "from fsl.wrappers.misc import fslroi\n",
    "from fsl.wrappers import flirt\n",
    "\n",
    "# General purpose imports to handle paths, files etc\n",
    "import glob\n",
    "import pandas as pd\n",
    "import numpy as np\n",
    "import json\n",
    "import subprocess"
   ]
  },
  {
   "cell_type": "code",
   "execution_count": 2,
   "id": "d3bdbcae-e79d-41cc-990d-7b9a381ed68c",
   "metadata": {},
   "outputs": [
    {
     "name": "stderr",
     "output_type": "stream",
     "text": [
      "Gtk-Message: 08:49:32.247: Failed to load module \"canberra-gtk-module\"\n",
      "08:49:32: Debug: Adding duplicate image handler for 'Windows bitmap file'\n",
      "08:49:32: Debug: Adding duplicate animation handler for '1' type\n",
      "08:49:32: Debug: Adding duplicate animation handler for '2' type\n",
      "08:49:32: Debug: Adding duplicate image handler for 'Windows bitmap file'\n",
      "08:49:32: Debug: Adding duplicate animation handler for '1' type\n",
      "08:49:32: Debug: Adding duplicate animation handler for '2' type\n",
      "\n",
      "(ipykernel_launcher.py:5390): Gtk-CRITICAL **: 08:49:32.450: gtk_window_resize: assertion 'height > 0' failed\n"
     ]
    }
   ],
   "source": [
    "# Start FSLeyes within Python \n",
    "fsleyesDisplay = FSLeyesServer()\n",
    "fsleyesDisplay.show()\n",
    "\n",
    "# Display\n",
    "fsleyesDisplay.load('T1w.nii.gz')"
   ]
  },
  {
   "cell_type": "code",
   "execution_count": 3,
   "id": "6829037c",
   "metadata": {},
   "outputs": [
    {
     "name": "stdout",
     "output_type": "stream",
     "text": [
      "Running: bet T1w.nii.gz T1w_brain -m \n",
      "Skull stripping complete!\n"
     ]
    }
   ],
   "source": [
    "###################\n",
    "# Skull Stripping #\n",
    "###################\n",
    "\n",
    "import os\n",
    "\n",
    "def skull_strip_single_t1(t1_path, robust=False):\n",
    "    \"\"\"\n",
    "    Skull-strip a single T1w image using FSL BET.\n",
    "    Saves *_brain.nii.gz and *_mask.nii.gz next to the input file.\n",
    "    \"\"\"\n",
    "    t1_dir = os.path.dirname(t1_path)\n",
    "    t1_base = os.path.splitext(os.path.splitext(os.path.basename(t1_path))[0])[0]  # removes .nii.gz\n",
    "    output_path = os.path.join(t1_dir, t1_base + \"_brain\")\n",
    "\n",
    "    cmd = f\"bet {t1_path} {output_path} -m {'-R' if robust else ''}\"\n",
    "    print(f\"Running: {cmd}\")\n",
    "    os.system(cmd)\n",
    "    print(\"✅ Skull stripping complete!\")\n",
    "\n",
    "# Call it on your file\n",
    "skull_strip_single_t1('T1w.nii.gz')"
   ]
  },
  {
   "cell_type": "code",
   "execution_count": 10,
   "id": "db7b9e4b-9bca-448b-9b97-85717a46bbf0",
   "metadata": {},
   "outputs": [],
   "source": [
    "# Display\n",
    "fsleyesDisplay.load('T1w_brain.nii.gz')\n",
    "fsleyesDisplay.load('T1w_brain_mask.nii.gz')"
   ]
  },
  {
   "cell_type": "code",
   "execution_count": 5,
   "id": "63e32d23-f241-486d-8462-4d0adb7e4bb0",
   "metadata": {},
   "outputs": [],
   "source": [
    "def apply_python_mask_approach(img_path, mask_path, masked_img_path):\n",
    "    \"\"\"\n",
    "    Parameters\n",
    "    ----------\n",
    "    img_path: str\n",
    "        Path to the image on which we would like to apply the mask (in your case, the T1 with the skull still on). Should be a .nii.gz file\n",
    "    mask_path: str\n",
    "        Path to the mask you would like to apply to your image. Should be a .nii.gz file, containing only binary values (0 or 1)\n",
    "    masked_img_path: str\n",
    "        Path to which the resulting image will be saved.\n",
    "    \"\"\"\n",
    "    import nibabel as nib\n",
    "\n",
    "    # Load both the T1 and the mask from disk\n",
    "    img = nib.load(img_path)\n",
    "    mask = nib.load(mask_path)\n",
    "    \n",
    "    # Load the data from both above images as numpy arrays\n",
    "    img_data = img.get_fdata()\n",
    "    mask_data = mask.get_fdata()\n",
    "\n",
    "    # Create an empty image and select all which falls in the mask\n",
    "    # In all positions within the mask, get the image content\n",
    "    saved_img_data = np.zeros(img_data.shape)\n",
    "    saved_img_data[mask_data > 0] = img_data[mask_data > 0]\n",
    "\n",
    "    # Save the image to disk, by creating a new Nifti image and then writing it out\n",
    "    img_out = nib.Nifti1Image(saved_img_data,img.affine, img.header)\n",
    "    nib.save(img_out, masked_img_path)\n",
    "\n",
    "def apply_fsl_math_approach(img_path, mask_path, masked_img_path):\n",
    "    os.system('fslmaths {} -mas {} {}'.format(img_path, mask_path, masked_img_path))"
   ]
  },
  {
   "cell_type": "code",
   "execution_count": 6,
   "id": "391cf919-e8e4-4232-80c9-b0ff4a5864b2",
   "metadata": {},
   "outputs": [],
   "source": [
    "import os\n",
    "\n",
    "data_dir = os.getcwd()  # Change paths for your own data if needed!\n",
    "\n",
    "# Input and output paths\n",
    "anatomical_path = os.path.join(data_dir, 'T1w.nii.gz')                  # Original brain (with skull)\n",
    "betted_brain_path = os.path.join(data_dir, 'T1w_brain.nii.gz')          # Skull-stripped brain\n",
    "resulting_mask_path = os.path.join(data_dir, 'T1w_brain_mask.nii.gz')   # Brain mask\n",
    "\n",
    "########################\n",
    "# Apply the FSL math approach\n",
    "########################\n",
    "apply_fsl_math_approach(anatomical_path, resulting_mask_path, betted_brain_path)\n"
   ]
  },
  {
   "cell_type": "code",
   "execution_count": 7,
   "id": "a009bb8b-15e2-437d-a66b-6a34cc774f41",
   "metadata": {},
   "outputs": [
    {
     "name": "stderr",
     "output_type": "stream",
     "text": [
      "\n",
      "(ipykernel_launcher.py:5390): Gdk-WARNING **: 08:50:00.518: gdkdrawable-x11.c:952 drawable is not a pixmap or window\n"
     ]
    }
   ],
   "source": [
    "# Display\n",
    "fsleyesDisplay.resetOverlays()\n",
    "fsleyesDisplay.load(betted_brain_path)"
   ]
  },
  {
   "cell_type": "code",
   "execution_count": null,
   "id": "e7da3de0-3953-47c5-a4f8-fe4214110528",
   "metadata": {},
   "outputs": [],
   "source": [
    "################\n",
    "# Segmentation #\n",
    "################\n",
    "\n",
    "import os, glob\n",
    "from fsl.wrappers import fast\n",
    "\n",
    "\n",
    "# Change the paths if needed!\n",
    "data_dir = os.getcwd()  \n",
    "anatomical_path = os.path.join(data_dir, 'T1w.nii.gz')           # Original brain\n",
    "bet_path = os.path.join(data_dir, 'T1w_brain.nii.gz')            # Skull-stripped brain (output of BET)\n",
    "segmentation_path = os.path.join(data_dir, 'T1w_fast')           # Output prefix for segmentation results\n",
    "\n",
    "# Clean up old FAST results\n",
    "for f in glob.glob(os.path.join(data_dir, '*fast*')):\n",
    "    os.remove(f)\n",
    "\n",
    "# Run FAST segmentation on skull-stripped brain\n",
    "fast_target = bet_path  # BET result is recommended for segmentation\n",
    "fast(imgs=[fast_target], out=segmentation_path, n_classes=3)\n",
    "\n",
    "print(\"FAST segmentation complete!\")"
   ]
  },
  {
   "cell_type": "code",
   "execution_count": 11,
   "id": "fd52bb97-f132-443a-bcc3-31c5b4e8083b",
   "metadata": {},
   "outputs": [],
   "source": [
    "# Display\n",
    "fsleyesDisplay.resetOverlays()\n",
    "fsleyesDisplay.load(bet_path)  # base brain\n",
    "\n",
    "# Load the three partial volume estimate maps (gray matter, white matter, CSF)\n",
    "fsleyesDisplay.load(glob.glob(os.path.join(data_dir, '*pve_0*'))[0])  # CSF\n",
    "fsleyesDisplay.load(glob.glob(os.path.join(data_dir, '*pve_1*'))[0])  # Gray Matter\n",
    "fsleyesDisplay.load(glob.glob(os.path.join(data_dir, '*pve_2*'))[0])  # White Matter\n",
    "\n",
    "# Assign colors for clarity\n",
    "fsleyesDisplay.displayCtx.getOpts(fsleyesDisplay.overlayList[1]).cmap = 'Red'    # CSF\n",
    "fsleyesDisplay.displayCtx.getOpts(fsleyesDisplay.overlayList[2]).cmap = 'Green'  # GM\n",
    "fsleyesDisplay.displayCtx.getOpts(fsleyesDisplay.overlayList[3]).cmap = 'Blue'   # WM"
   ]
  }
 ],
 "metadata": {
  "kernelspec": {
   "display_name": "Python 3 (ipykernel)",
   "language": "python",
   "name": "python3"
  },
  "language_info": {
   "codemirror_mode": {
    "name": "ipython",
    "version": 3
   },
   "file_extension": ".py",
   "mimetype": "text/x-python",
   "name": "python",
   "nbconvert_exporter": "python",
   "pygments_lexer": "ipython3",
   "version": "3.11.6"
  }
 },
 "nbformat": 4,
 "nbformat_minor": 5
}
