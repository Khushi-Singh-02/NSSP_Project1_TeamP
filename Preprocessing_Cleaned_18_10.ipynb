{
 "cells": [
  {
   "cell_type": "markdown",
   "id": "a444d2d9-ff1f-4eee-bfd9-b6b91a2d4e90",
   "metadata": {},
   "source": [
    "# NX-421 Mini Project — Group P, Variant 1 (PCA) with Preprocessing\n",
    "\n",
    "## Pipeline\n",
    "1. **Project setup & inputs**\n",
    "2. **Structural preprocessing (T1)**: skull-strip (mask-based), tissue segmentation, normalization\n",
    "3. **Functional preprocessing (T2)**: data visualisation, checking for problematic volumes, masking, variance normalisation, motion correction, coregistration, spatial smoothing\n",
    "4. **Design matrix (concatenated)**\n",
    "5. **First-level GLM**\n",
    "6. **Example contrast**\n",
    "6. **PCA**\n"
   ]
  },
  {
   "cell_type": "markdown",
   "id": "20a78ec3-5701-4508-bd4c-14dcb5098185",
   "metadata": {},
   "source": [
    "## Set-Up"
   ]
  },
  {
   "cell_type": "markdown",
   "id": "730a1406-a69b-4afc-a893-2d7dd2b8c1bd",
   "metadata": {},
   "source": [
    "### 1a. Import Libraries"
   ]
  },
  {
   "cell_type": "code",
   "execution_count": 14,
   "id": "30c97cc5",
   "metadata": {},
   "outputs": [
    {
     "name": "stdout",
     "output_type": "stream",
     "text": [
      "Requirement already satisfied: antspyx in /opt/conda/lib/python3.11/site-packages (0.5.3)\n",
      "Requirement already satisfied: pandas in /opt/conda/lib/python3.11/site-packages (from antspyx) (2.2.2)\n",
      "Requirement already satisfied: pyyaml in /opt/conda/lib/python3.11/site-packages (from antspyx) (6.0.1)\n",
      "Requirement already satisfied: numpy in /opt/conda/lib/python3.11/site-packages (from antspyx) (1.26.4)\n",
      "Requirement already satisfied: statsmodels in /opt/conda/lib/python3.11/site-packages (from antspyx) (0.14.2)\n",
      "Requirement already satisfied: webcolors in /opt/conda/lib/python3.11/site-packages (from antspyx) (1.13)\n",
      "Requirement already satisfied: matplotlib in /opt/conda/lib/python3.11/site-packages (from antspyx) (3.9.2)\n",
      "Requirement already satisfied: Pillow in /opt/conda/lib/python3.11/site-packages (from antspyx) (10.0.0)\n",
      "Requirement already satisfied: requests in /opt/conda/lib/python3.11/site-packages (from antspyx) (2.31.0)\n",
      "Requirement already satisfied: contourpy>=1.0.1 in /opt/conda/lib/python3.11/site-packages (from matplotlib->antspyx) (1.3.0)\n",
      "Requirement already satisfied: cycler>=0.10 in /opt/conda/lib/python3.11/site-packages (from matplotlib->antspyx) (0.12.1)\n",
      "Requirement already satisfied: fonttools>=4.22.0 in /opt/conda/lib/python3.11/site-packages (from matplotlib->antspyx) (4.53.1)\n",
      "Requirement already satisfied: kiwisolver>=1.3.1 in /opt/conda/lib/python3.11/site-packages (from matplotlib->antspyx) (1.4.7)\n",
      "Requirement already satisfied: packaging>=20.0 in /opt/conda/lib/python3.11/site-packages (from matplotlib->antspyx) (23.2)\n",
      "Requirement already satisfied: pyparsing>=2.3.1 in /opt/conda/lib/python3.11/site-packages (from matplotlib->antspyx) (3.1.4)\n",
      "Requirement already satisfied: python-dateutil>=2.7 in /opt/conda/lib/python3.11/site-packages (from matplotlib->antspyx) (2.8.2)\n",
      "Requirement already satisfied: pytz>=2020.1 in /opt/conda/lib/python3.11/site-packages (from pandas->antspyx) (2023.3)\n",
      "Requirement already satisfied: tzdata>=2022.7 in /opt/conda/lib/python3.11/site-packages (from pandas->antspyx) (2024.1)\n",
      "Requirement already satisfied: charset-normalizer<4,>=2 in /opt/conda/lib/python3.11/site-packages (from requests->antspyx) (3.3.0)\n",
      "Requirement already satisfied: idna<4,>=2.5 in /opt/conda/lib/python3.11/site-packages (from requests->antspyx) (3.4)\n",
      "Requirement already satisfied: urllib3<3,>=1.21.1 in /opt/conda/lib/python3.11/site-packages (from requests->antspyx) (2.0.7)\n",
      "Requirement already satisfied: certifi>=2017.4.17 in /opt/conda/lib/python3.11/site-packages (from requests->antspyx) (2024.8.30)\n",
      "Requirement already satisfied: scipy!=1.9.2,>=1.8 in /opt/conda/lib/python3.11/site-packages (from statsmodels->antspyx) (1.14.1)\n",
      "Requirement already satisfied: patsy>=0.5.6 in /opt/conda/lib/python3.11/site-packages (from statsmodels->antspyx) (0.5.6)\n",
      "Requirement already satisfied: six in /opt/conda/lib/python3.11/site-packages (from patsy>=0.5.6->statsmodels->antspyx) (1.16.0)\n"
     ]
    }
   ],
   "source": [
    "%gui wx\n",
    "import sys\n",
    "import os\n",
    "\n",
    "notebook_dir = os.path.abspath(\"\")\n",
    "parent_dir = os.path.abspath(os.path.join(notebook_dir, '..'))\n",
    "sys.path.append(parent_dir)\n",
    "sys.path.append('.')\n",
    "from utils import loadFSL, FSLeyesServer, mkdir_no_exist, interactive_MCQ\n",
    "\n",
    "os.environ[\"DIPY_HOME\"] = \"/home/pvanden/Desktop/MyFiles/NSSP_Project1_TeamP\"\n",
    "\n",
    "import lmod\n",
    "await lmod.purge(force=True)\n",
    "await lmod.load('fsl/6.0.7.4')\n",
    "await lmod.load('freesurfer/7.4.1')\n",
    "await lmod.list()\n",
    "loadFSL()\n",
    "\n",
    "import fsl.wrappers\n",
    "from fsl.wrappers import fslmaths\n",
    "\n",
    "import mne_nirs\n",
    "import nilearn\n",
    "from nilearn.datasets import fetch_development_fmri\n",
    "\n",
    "import mne\n",
    "import mne_nirs\n",
    "import dipy\n",
    "from dipy.data import fetch_bundles_2_subjects, read_bundles_2_subjects\n",
    "import xml.etree.ElementTree as ET\n",
    "import os.path as op\n",
    "import nibabel as nib\n",
    "import glob\n",
    "\n",
    "!pip install antspyx\n",
    "import ants\n",
    "\n",
    "import openneuro\n",
    "from mne.datasets import sample\n",
    "from mne_bids import BIDSPath, read_raw_bids, print_dir_tree, make_report\n",
    "\n",
    "import requests\n",
    "import urllib.request\n",
    "from tqdm import tqdm\n",
    "\n",
    "from fsl.wrappers import fast, bet\n",
    "from fsl.wrappers.misc import fslroi\n",
    "from fsl.wrappers import flirt\n",
    "\n",
    "import glob\n",
    "import pandas as pd\n",
    "import numpy as np\n",
    "import json\n",
    "import subprocess\n",
    "\n",
    "import numpy as np\n",
    "import pandas as pd\n",
    "import statsmodels.api as sm\n",
    "import statsmodels.formula.api as smf\n",
    "from statsmodels.tools.sm_exceptions import ConvergenceWarning"
   ]
  },
  {
   "cell_type": "markdown",
   "id": "13a82191-6441-40e0-931a-f4b58280ff23",
   "metadata": {},
   "source": [
    "### 1b. Import data"
   ]
  },
  {
   "cell_type": "code",
   "execution_count": 2,
   "id": "9f3a6096-d508-48e1-a6b0-1e5232088872",
   "metadata": {},
   "outputs": [
    {
     "data": {
      "text/plain": [
       "'/neurodesktop-storage'"
      ]
     },
     "execution_count": 2,
     "metadata": {},
     "output_type": "execute_result"
    }
   ],
   "source": [
    "pwd"
   ]
  },
  {
   "cell_type": "code",
   "execution_count": 2,
   "id": "fe0ec8a9",
   "metadata": {},
   "outputs": [
    {
     "name": "stdout",
     "output_type": "stream",
     "text": [
      "True\n",
      "|fMRI_Data/\n",
      "|--- tfMRI_MOTOR_LR.nii\n",
      "|--- tfMRI_MOTOR_RL.nii\n",
      "|--- .ipynb_checkpoints/\n"
     ]
    }
   ],
   "source": [
    "bids_root = \"fMRI_Data\" \n",
    "print(os.path.exists(bids_root))\n",
    "#derivatives = op.join(os.path.abspath(\"\"),bids_root, \"derivatives/preprocessed_data/subject101410\") \n",
    "#mkdir_no_exist(derivatives)\n",
    "LR_Motor = bids_root + '/tfMRI_MOTOR_LR.nii' \n",
    "RL_Motor = bids_root + '/tfMRI_MOTOR_RL.nii' \n",
    "print_dir_tree(bids_root, max_depth=5) "
   ]
  },
  {
   "cell_type": "code",
   "execution_count": 3,
   "id": "a16e43b8-9d91-45c7-89cd-7a726a256dea",
   "metadata": {},
   "outputs": [
    {
     "name": "stderr",
     "output_type": "stream",
     "text": [
      "11:59:32: Debug: Adding duplicate image handler for 'Windows bitmap file'\n",
      "11:59:32: Debug: Adding duplicate animation handler for '1' type\n",
      "11:59:32: Debug: Adding duplicate animation handler for '2' type\n",
      "11:59:32: Debug: Adding duplicate image handler for 'Windows bitmap file'\n",
      "11:59:32: Debug: Adding duplicate animation handler for '1' type\n",
      "11:59:32: Debug: Adding duplicate animation handler for '2' type\n",
      "\n",
      "(ipykernel_launcher.py:19922): Gtk-CRITICAL **: 11:59:32.545: gtk_window_resize: assertion 'height > 0' failed\n"
     ]
    }
   ],
   "source": [
    "#Start FSLeyes\n",
    "fsleyesDisplay = FSLeyesServer()\n",
    "fsleyesDisplay.show()"
   ]
  },
  {
   "cell_type": "markdown",
   "id": "e6d6affa-1b13-4b17-bb50-91559dda7cd1",
   "metadata": {},
   "source": [
    "### 2. Structural Preprocessing "
   ]
  },
  {
   "cell_type": "markdown",
   "id": "aa16de5d-8054-434a-adc9-b5776983128b",
   "metadata": {},
   "source": [
    "### 2a. Skull stripping"
   ]
  },
  {
   "cell_type": "code",
   "execution_count": null,
   "id": "5958ff34-95d1-4935-869f-85b4ed6f8788",
   "metadata": {},
   "outputs": [],
   "source": [
    "# Display Strcutural Image\n",
    "fsleyesDisplay.load('T1w.nii.gz')"
   ]
  },
  {
   "cell_type": "code",
   "execution_count": null,
   "id": "5c013f64",
   "metadata": {},
   "outputs": [],
   "source": [
    "def skull_strip_single_t1(t1_path, robust=False):\n",
    "    \"\"\"\n",
    "    Skull-strip a single T1w image using FSL BET.\n",
    "    Saves *_brain.nii.gz and *_mask.nii.gz next to the input file.\n",
    "    \"\"\"\n",
    "    t1_dir = os.path.dirname(t1_path)\n",
    "    t1_base = os.path.splitext(os.path.splitext(os.path.basename(t1_path))[0])[0]  # removes .nii.gz\n",
    "    output_path = os.path.join(t1_dir, t1_base + \"_brain\")\n",
    "\n",
    "    cmd = f\"bet {t1_path} {output_path} -m {'-R' if robust else ''}\"\n",
    "    print(f\"Running: {cmd}\")\n",
    "    os.system(cmd)\n",
    "    print(\"Skull stripping complete!\")\n",
    "\n",
    "# Call it on your file\n",
    "skull_strip_single_t1('T1w.nii.gz')"
   ]
  },
  {
   "cell_type": "code",
   "execution_count": null,
   "id": "a12fac04",
   "metadata": {},
   "outputs": [],
   "source": [
    "# Display\n",
    "fsleyesDisplay.load('T1w_brain.nii.gz')\n",
    "fsleyesDisplay.load('T1w_brain_mask.nii.gz')"
   ]
  },
  {
   "cell_type": "code",
   "execution_count": null,
   "id": "eb8aecf2",
   "metadata": {},
   "outputs": [],
   "source": [
    "def apply_python_mask_approach(img_path, mask_path, masked_img_path):\n",
    "    \"\"\"\n",
    "    Parameters\n",
    "    ----------\n",
    "    img_path: str\n",
    "        Path to the image on which we would like to apply the mask (in your case, the T1 with the skull still on). Should be a .nii.gz file\n",
    "    mask_path: str\n",
    "        Path to the mask you would like to apply to your image. Should be a .nii.gz file, containing only binary values (0 or 1)\n",
    "    masked_img_path: str\n",
    "        Path to which the resulting image will be saved.\n",
    "    \"\"\"\n",
    "    import nibabel as nib\n",
    "\n",
    "    # Load both the T1 and the mask from disk\n",
    "    img = nib.load(img_path)\n",
    "    mask = nib.load(mask_path)\n",
    "    \n",
    "    # Load the data from both above images as numpy arrays\n",
    "    img_data = img.get_fdata()\n",
    "    mask_data = mask.get_fdata()\n",
    "\n",
    "    # Create an empty image and select all which falls in the mask\n",
    "    # In all positions within the mask, get the image content\n",
    "    saved_img_data = np.zeros(img_data.shape)\n",
    "    saved_img_data[mask_data > 0] = img_data[mask_data > 0]\n",
    "\n",
    "    # Save the image to disk, by creating a new Nifti image and then writing it out\n",
    "    img_out = nib.Nifti1Image(saved_img_data,img.affine, img.header)\n",
    "    nib.save(img_out, masked_img_path)\n",
    "\n",
    "def apply_fsl_math_approach(img_path, mask_path, masked_img_path):\n",
    "    os.system('fslmaths {} -mas {} {}'.format(img_path, mask_path, masked_img_path))"
   ]
  },
  {
   "cell_type": "code",
   "execution_count": null,
   "id": "010766ca",
   "metadata": {},
   "outputs": [],
   "source": [
    "data_dir = os.getcwd()  # Change paths for your own data if needed!\n",
    "\n",
    "# Input and output paths\n",
    "anatomical_path = os.path.join(data_dir, 'T1w.nii.gz')                  # Original brain (with skull)\n",
    "betted_brain_path = os.path.join(data_dir, 'T1w_brain.nii.gz')          # Skull-stripped brain\n",
    "resulting_mask_path = os.path.join(data_dir, 'T1w_brain_mask.nii.gz')   # Brain mask\n",
    "\n",
    "########################\n",
    "# Apply the FSL math approach\n",
    "########################\n",
    "apply_fsl_math_approach(anatomical_path, resulting_mask_path, betted_brain_path)"
   ]
  },
  {
   "cell_type": "code",
   "execution_count": null,
   "id": "f652222f",
   "metadata": {},
   "outputs": [],
   "source": [
    "# Display\n",
    "fsleyesDisplay.resetOverlays()\n",
    "fsleyesDisplay.load(betted_brain_path)"
   ]
  },
  {
   "cell_type": "markdown",
   "id": "5f2e128a-fe43-45ce-aeb7-5049c8a11879",
   "metadata": {},
   "source": [
    "### 2b. Tissue Segmentataion"
   ]
  },
  {
   "cell_type": "code",
   "execution_count": null,
   "id": "defed7f5-5f46-48d1-ad67-9f29ac393abb",
   "metadata": {},
   "outputs": [],
   "source": [
    "import os, glob\n",
    "from fsl.wrappers import fast\n",
    "\n",
    "\n",
    "# Change the paths if needed!\n",
    "data_dir = os.getcwd()  \n",
    "anatomical_path = os.path.join(data_dir, 'T1w.nii.gz')           # Original brain\n",
    "bet_path = os.path.join(data_dir, 'T1w_brain.nii.gz')            # Skull-stripped brain (output of BET)\n",
    "segmentation_path = os.path.join(data_dir, 'T1w_fast')           # Output prefix for segmentation results\n",
    "\n",
    "# Clean up old FAST results\n",
    "for f in glob.glob(os.path.join(data_dir, '*fast*')):\n",
    "    os.remove(f)\n",
    "\n",
    "# Run FAST segmentation on skull-stripped brain\n",
    "fast_target = bet_path  # BET result is recommended for segmentation\n",
    "fast(imgs=[fast_target], out=segmentation_path, n_classes=3)\n",
    "\n",
    "print(\"FAST segmentation complete!\")"
   ]
  },
  {
   "cell_type": "code",
   "execution_count": null,
   "id": "9095889d",
   "metadata": {},
   "outputs": [],
   "source": [
    "# Display\n",
    "fsleyesDisplay.resetOverlays()\n",
    "fsleyesDisplay.load(bet_path)  # base brain\n",
    "\n",
    "# Load the three partial volume estimate maps (gray matter, white matter, CSF)\n",
    "fsleyesDisplay.load(glob.glob(os.path.join(data_dir, '*pve_0*'))[0])  # CSF\n",
    "fsleyesDisplay.load(glob.glob(os.path.join(data_dir, '*pve_1*'))[0])  # Gray Matter\n",
    "fsleyesDisplay.load(glob.glob(os.path.join(data_dir, '*pve_2*'))[0])  # White Matter\n",
    "\n",
    "# Assign colors for clarity\n",
    "fsleyesDisplay.displayCtx.getOpts(fsleyesDisplay.overlayList[1]).cmap = 'Red'    # CSF\n",
    "fsleyesDisplay.displayCtx.getOpts(fsleyesDisplay.overlayList[2]).cmap = 'Green'  # GM\n",
    "fsleyesDisplay.displayCtx.getOpts(fsleyesDisplay.overlayList[3]).cmap = 'Blue'   # WM"
   ]
  },
  {
   "cell_type": "markdown",
   "id": "73278a39-420d-4d1e-8315-35a2372942fa",
   "metadata": {},
   "source": [
    "### 3. Functional Preprocessing "
   ]
  },
  {
   "cell_type": "markdown",
   "id": "deadec03-12ac-415a-bce0-e1a41331e5e9",
   "metadata": {},
   "source": [
    "### 3a. Visualising Data"
   ]
  },
  {
   "cell_type": "code",
   "execution_count": 4,
   "id": "acdb9392",
   "metadata": {},
   "outputs": [
    {
     "name": "stdout",
     "output_type": "stream",
     "text": [
      "(91, 109, 91, 284)\n",
      "(91, 109, 91, 284)\n"
     ]
    }
   ],
   "source": [
    "import nibabel as nib\n",
    "import numpy as np\n",
    "\n",
    "def load_img_data(path):\n",
    "    img = nib.load(path)\n",
    "    data = img.get_fdata(dtype=np.float32)  \n",
    "    return img, data\n",
    "\n",
    "def brain_mask_from_nonzero(data, threshold=1e-6):\n",
    "    \"\"\"\n",
    "    Creates brain mask for voxels with mean absolute intensity > threshold.\n",
    "    This excludes background zeros but keeps all real voxels.\n",
    "    \"\"\"\n",
    "    mean_signal = np.mean(np.abs(data), axis=3)\n",
    "    mask = mean_signal > threshold\n",
    "    return mask\n",
    "\n",
    "def global_variance_over_mask(data, mask):\n",
    "    \"\"\"Compute global variance across all brain voxels and timepoints.\"\"\"\n",
    "    brain_ts = data[mask]  \n",
    "    return np.var(brain_ts)\n",
    "\n",
    "# File paths\n",
    "run1 = LR_Motor\n",
    "run2 = RL_Motor\n",
    "\n",
    "# Load both runs\n",
    "img1, d1 = load_img_data(run1)\n",
    "img2, d2 = load_img_data(run2)\n",
    "\n",
    "print(img1.shape)\n",
    "print(img2.shape)"
   ]
  },
  {
   "cell_type": "code",
   "execution_count": 6,
   "id": "f6cfde3e-49b7-4f65-bb0f-69ccb6db0fba",
   "metadata": {},
   "outputs": [
    {
     "data": {
      "text/plain": [
       "Text(0, 0.5, 'Mean voxel intensity')"
      ]
     },
     "execution_count": 6,
     "metadata": {},
     "output_type": "execute_result"
    },
    {
     "data": {
      "image/png": "[encoded data removed]",
      "text/plain": [
       "<Figure size 640x480 with 1 Axes>"
      ]
     },
     "metadata": {},
     "output_type": "display_data"
    }
   ],
   "source": [
    "import matplotlib.pyplot as plt\n",
    "import nibabel as nib\n",
    "\n",
    "plt.plot(nib.load(LR_Motor).get_fdata().mean(axis=(0,1,2)))\n",
    "plt.xlabel('Time (volume)')\n",
    "plt.ylabel('Mean voxel intensity')"
   ]
  },
  {
   "cell_type": "markdown",
   "id": "8f9404b8-bb4a-4d70-9e76-b608e036d1cd",
   "metadata": {},
   "source": [
    "No volumes to remove based on voxel intensity."
   ]
  },
  {
   "cell_type": "markdown",
   "id": "72d408ec-2f0d-485b-8069-33fd827769d0",
   "metadata": {},
   "source": [
    "### 3b. Create mask, rescale for variance = 1 and visualise"
   ]
  },
  {
   "cell_type": "code",
   "execution_count": 5,
   "id": "43f69833-2ca2-49cd-8e9e-bf8d053dfe84",
   "metadata": {},
   "outputs": [
    {
     "name": "stdout",
     "output_type": "stream",
     "text": [
      "0.99999756\n",
      "1.0000005\n"
     ]
    }
   ],
   "source": [
    "# Threshold to remove background noise\n",
    "mask1 = brain_mask_from_nonzero(d1, threshold=1e-6)\n",
    "mask2 = brain_mask_from_nonzero(d2, threshold=1e-6)\n",
    "\n",
    "# Compute global variance for each run\n",
    "var1 = global_variance_over_mask(d1, mask1)\n",
    "var2 = global_variance_over_mask(d2, mask2)\n",
    "\n",
    "# ---- Rescale so variance = 1 ----\n",
    "d1_scaled = d1 / np.sqrt(var1)\n",
    "d2_scaled = d2 / np.sqrt(var2)\n",
    "\n",
    "print(global_variance_over_mask(d1_scaled, mask1))\n",
    "print(global_variance_over_mask(d2_scaled, mask2))\n",
    "\n",
    "# Save processed data and masks\n",
    "nib.save(nib.Nifti1Image(d1_scaled, img1.affine, img1.header.copy()), 'd1_scaled.nii.gz')\n",
    "nib.save(nib.Nifti1Image(d2_scaled, img2.affine, img2.header.copy()), 'd2_scaled.nii.gz')\n",
    "nib.save(nib.Nifti1Image(mask1.astype(int), img1.affine, img1.header.copy()), 'mask1.nii.gz')\n",
    "nib.save(nib.Nifti1Image(mask2.astype(int), img2.affine, img2.header.copy()), 'mask2.nii.gz')\n",
    "\n",
    "# Launch FSLeyes with the saved files\n",
    "subprocess.Popen(['fsleyes', 'd1_scaled.nii.gz', 'mask1.nii.gz', 'd2_scaled.nii.gz', 'mask2.nii.gz'])"
   ]
  },
  {
   "cell_type": "markdown",
   "id": "d53a90f3-765e-4ce8-ae90-3209a8a9166d",
   "metadata": {},
   "source": [
    "### 3c. Concatenate runs"
   ]
  },
  {
   "cell_type": "code",
   "execution_count": 6,
   "id": "2e6c119d-646f-42e4-b038-10555be03d3f",
   "metadata": {},
   "outputs": [
    {
     "name": "stdout",
     "output_type": "stream",
     "text": [
      "(91, 109, 91, 568)\n"
     ]
    }
   ],
   "source": [
    "# Concatenate along time (4th dimension) \n",
    "concat = np.concatenate((d1_scaled, d2_scaled), axis=3)\n",
    "print(concat.shape)"
   ]
  },
  {
   "cell_type": "code",
   "execution_count": 7,
   "id": "5fe2f544-3e42-4328-b37f-7402975152e1",
   "metadata": {},
   "outputs": [
    {
     "name": "stdout",
     "output_type": "stream",
     "text": [
      "Saved concatenated, variance-normalized fMRI:\n",
      "/home/jovyan/Data/group_project/fMRI_motor_concat_var1.nii.gz\n"
     ]
    }
   ],
   "source": [
    "# Save output \n",
    "save_path = \"/home/jovyan/Data/group_project\"\n",
    "out_path = save_path +\"/fMRI_motor_concat_var1.nii.gz\"\n",
    "mkdir_no_exist(save_path)\n",
    "\n",
    "out_img = nib.Nifti1Image(concat, img1.affine, img1.header)\n",
    "nib.save(out_img, out_path)\n",
    "\n",
    "print(f\"Saved concatenated, variance-normalized fMRI:\\n{out_path}\")"
   ]
  },
  {
   "cell_type": "code",
   "execution_count": 8,
   "id": "c9179fd0-b3ef-457f-b5e3-8961f5c7dc47",
   "metadata": {},
   "outputs": [
    {
     "name": "stderr",
     "output_type": "stream",
     "text": [
      "\n",
      "(ipykernel_launcher.py:16504): Gdk-WARNING **: 11:30:30.061: gdkdrawable-x11.c:952 drawable is not a pixmap or window\n"
     ]
    }
   ],
   "source": [
    "fsleyesDisplay = FSLeyesServer() \n",
    "fsleyesDisplay.show() \n",
    "fsleyesDisplay.resetOverlays() \n",
    "fsleyesDisplay.load(out_path)"
   ]
  },
  {
   "cell_type": "markdown",
   "id": "9b7a0a7c-6def-4cc4-b9f8-5416a8ff808b",
   "metadata": {},
   "source": [
    "### 3d. Motion Correction"
   ]
  },
  {
   "cell_type": "code",
   "execution_count": 8,
   "id": "d7294c65-b850-4a87-969c-a28ebf2e7822",
   "metadata": {
    "scrolled": true
   },
   "outputs": [
    {
     "name": "stderr",
     "output_type": "stream",
     "text": [
      "Processed data will be saved as /home/jovyan/Data/group_project/moco_mot_corr/moco\n",
      "\n",
      "McFLIRT v 2.0 - FMRI motion correction\n",
      "\n",
      "Reading time series... \n",
      "first iteration - 8mm scaling, set tolerance\n",
      "Rescaling reference volume [284] to 8 mm pixels\n",
      "Registering volumes ... [285][286][287][288][289][290][291][292][293][294][295][296][297][298][299][300][301][302][303][304][305][306][307][308][309][310][311][312][313][314][315][316][317][318][319][320][321][322][323][324][325][326][327][328][329][330][331][332][333][334][335][336][337][338][339][340][341][342][343][344][345][346][347][348][349][350][351][352][353][354][355][356][357][358][359][360][361][362][363][364][365][366][367][368][369][370][371][372][373][374][375][376][377][378][379][380][381][382][383][384][385][386][387][388][389][390][391][392][393][394][395][396][397][398][399][400][401][402][403][404][405][406][407][408][409][410][411][412][413][414][415][416][417][418][419][420][421][422][423][424][425][426][427][428][429][430][431][432][433][434][435][436][437][438][439][440][441][442][443][444][445][446][447][448][449][450][451][452][453][454][455][456][457][458][459][460][461][462][463][464][465][466][467][468][469][470][471][472][473][474][475][476][477][478][479][480][481][482][483][484][485][486][487][488][489][490][491][492][493][494][495][496][497][498][499][500][501][502][503][504][505][506][507][508][509][510][511][512][513][514][515][516][517][518][519][520][521][522][523][524][525][526][527][528][529][530][531][532][533][534][535][536][537][538][539][540][541][542][543][544][545][546][547][548][549][550][551][552][553][554][555][556][557][558][559][560][561][562][563][564][565][566][567][283][282][281][280][279][278][277][276][275][274][273][272][271][270][269][268][267][266][265][264][263][262][261][260][259][258][257][256][255][254][253][252][251][250][249][248][247][246][245][244][243][242][241][240][239][238][237][236][235][234][233][232][231][230][229][228][227][226][225][224][223][222][221][220][219][218][217][216][215][214][213][212][211][210][209][208][207][206][205][204][203][202][201][200][199][198][197][196][195][194][193][192][191][190][189][188][187][186][185][184][183][182][181][180][179][178][177][176][175][174][173][172][171][170][169][168][167][166][165][164][163][162][161][160][159][158][157][156][155][154][153][152][151][150][149][148][147][146][145][144][143][142][141][140][139][138][137][136][135][134][133][132][131][130][129][128][127][126][125][124][123][122][121][120][119][118][117][116][115][114][113][112][111][110][109][108][107][106][105][104][103][102][101][100][99][98][97][96][95][94][93][92][91][90][89][88][87][86][85][84][83][82][81][80][79][78][77][76][75][74][73][72][71][70][69][68][67][66][65][64][63][62][61][60][59][58][57][56][55][54][53][52][51][50][49][48][47][46][45][44][43][42][41][40][39][38][37][36][35][34][33][32][31][30][29][28][27][26][25][24][23][22][21][20][19][18][17][16][15][14][13][12][11][10][9][8][7][6][5][4][3][2][1][0]\n",
      "second iteration - drop to 4mm scaling\n",
      "Rescaling reference volume [284] to 4 mm pixels\n",
      "Registering volumes ... [285][286][287][288][289][290][291][292][293][294][295][296][297][298][299][300][301][302][303][304][305][306][307][308][309][310][311][312][313][314][315][316][317][318][319][320][321][322][323][324][325][326][327][328][329][330][331][332][333][334][335][336][337][338][339][340][341][342][343][344][345][346][347][348][349][350][351][352][353][354][355][356][357][358][359][360][361][362][363][364][365][366][367][368][369][370][371][372][373][374][375][376][377][378][379][380][381][382][383][384][385][386][387][388][389][390][391][392][393][394][395][396][397][398][399][400][401][402][403][404][405][406][407][408][409][410][411][412][413][414][415][416][417][418][419][420][421][422][423][424][425][426][427][428][429][430][431][432][433][434][435][436][437][438][439][440][441][442][443][444][445][446][447][448][449][450][451][452][453][454][455][456][457][458][459][460][461][462][463][464][465][466][467][468][469][470][471][472][473][474][475][476][477][478][479][480][481][482][483][484][485][486][487][488][489][490][491][492][493][494][495][496][497][498][499][500][501][502][503][504][505][506][507][508][509][510][511][512][513][514][515][516][517][518][519][520][521][522][523][524][525][526][527][528][529][530][531][532][533][534][535][536][537][538][539][540][541][542][543][544][545][546][547][548][549][550][551][552][553][554][555][556][557][558][559][560][561][562][563][564][565][566][567][283][282][281][280][279][278][277][276][275][274][273][272][271][270][269][268][267][266][265][264][263][262][261][260][259][258][257][256][255][254][253][252][251][250][249][248][247][246][245][244][243][242][241][240][239][238][237][236][235][234][233][232][231][230][229][228][227][226][225][224][223][222][221][220][219][218][217][216][215][214][213][212][211][210][209][208][207][206][205][204][203][202][201][200][199][198][197][196][195][194][193][192][191][190][189][188][187][186][185][184][183][182][181][180][179][178][177][176][175][174][173][172][171][170][169][168][167][166][165][164][163][162][161][160][159][158][157][156][155][154][153][152][151][150][149][148][147][146][145][144][143][142][141][140][139][138][137][136][135][134][133][132][131][130][129][128][127][126][125][124][123][122][121][120][119][118][117][116][115][114][113][112][111][110][109][108][107][106][105][104][103][102][101][100][99][98][97][96][95][94][93][92][91][90][89][88][87][86][85][84][83][82][81][80][79][78][77][76][75][74][73][72][71][70][69][68][67][66][65][64][63][62][61][60][59][58][57][56][55][54][53][52][51][50][49][48][47][46][45][44][43][42][41][40][39][38][37][36][35][34][33][32][31][30][29][28][27][26][25][24][23][22][21][20][19][18][17][16][15][14][13][12][11][10][9][8][7][6][5][4][3][2][1][0]\n",
      "third iteration - 4mm scaling, eighth tolerance\n"
     ]
    },
    {
     "name": "stdout",
     "output_type": "stream",
     "text": [
      "refnum = 284\n",
      "Original_refvol = -1\n"
     ]
    },
    {
     "name": "stderr",
     "output_type": "stream",
     "text": [
      "Registering volumes ... [285][286][287][288][289][290][291][292][293][294][295][296][297][298][299][300][301][302][303][304][305][306][307][308][309][310][311][312][313][314][315][316][317][318][319][320][321][322][323][324][325][326][327][328][329][330][331][332][333][334][335][336][337][338][339][340][341][342][343][344][345][346][347][348][349][350][351][352][353][354][355][356][357][358][359][360][361][362][363][364][365][366][367][368][369][370][371][372][373][374][375][376][377][378][379][380][381][382][383][384][385][386][387][388][389][390][391][392][393][394][395][396][397][398][399][400][401][402][403][404][405][406][407][408][409][410][411][412][413][414][415][416][417][418][419][420][421][422][423][424][425][426][427][428][429][430][431][432][433][434][435][436][437][438][439][440][441][442][443][444][445][446][447][448][449][450][451][452][453][454][455][456][457][458][459][460][461][462][463][464][465][466][467][468][469][470][471][472][473][474][475][476][477][478][479][480][481][482][483][484][485][486][487][488][489][490][491][492][493][494][495][496][497][498][499][500][501][502][503][504][505][506][507][508][509][510][511][512][513][514][515][516][517][518][519][520][521][522][523][524][525][526][527][528][529][530][531][532][533][534][535][536][537][538][539][540][541][542][543][544][545][546][547][548][549][550][551][552][553][554][555][556][557][558][559][560][561][562][563][564][565][566][567][283][282][281][280][279][278][277][276][275][274][273][272][271][270][269][268][267][266][265][264][263][262][261][260][259][258][257][256][255][254][253][252][251][250][249][248][247][246][245][244][243][242][241][240][239][238][237][236][235][234][233][232][231][230][229][228][227][226][225][224][223][222][221][220][219][218][217][216][215][214][213][212][211][210][209][208][207][206][205][204][203][202][201][200][199][198][197][196][195][194][193][192][191][190][189][188][187][186][185][184][183][182][181][180][179][178][177][176][175][174][173][172][171][170][169][168][167][166][165][164][163][162][161][160][159][158][157][156][155][154][153][152][151][150][149][148][147][146][145][144][143][142][141][140][139][138][137][136][135][134][133][132][131][130][129][128][127][126][125][124][123][122][121][120][119][118][117][116][115][114][113][112][111][110][109][108][107][106][105][104][103][102][101][100][99][98][97][96][95][94][93][92][91][90][89][88][87][86][85][84][83][82][81][80][79][78][77][76][75][74][73][72][71][70][69][68][67][66][65][64][63][62][61][60][59][58][57][56][55][54][53][52][51][50][49][48][47][46][45][44][43][42][41][40][39][38][37][36][35][34][33][32][31][30][29][28][27][26][25][24][23][22][21][20][19][18][17][16][15][14][13][12][11][10][9][8][7][6][5][4][3][2][1][0]\n",
      "Saving motion corrected time series... \n"
     ]
    },
    {
     "data": {
      "text/plain": [
       "{}"
      ]
     },
     "execution_count": 8,
     "metadata": {},
     "output_type": "execute_result"
    }
   ],
   "source": [
    "from fsl.wrappers import mcflirt \n",
    "save_path = \"/home/jovyan/Data/group_project\"\n",
    "out_path = save_path+\"/fMRI_motor_concat_var1.nii.gz\" \n",
    "moco_path = save_path+\"/moco_mot_corr\"\n",
    "mkdir_no_exist(moco_path)\n",
    "mcflirt(infile=out_path,o=moco_path+'/moco', plots=True, report=True, dof=6, mats=True)"
   ]
  },
  {
   "cell_type": "code",
   "execution_count": null,
   "id": "ed053b78-48bc-4cd6-9990-e7b9d4605716",
   "metadata": {},
   "outputs": [],
   "source": [
    "fsleyesDisplay = FSLeyesServer() \n",
    "fsleyesDisplay.show() \n",
    "fsleyesDisplay.resetOverlays() \n",
    "fsleyesDisplay.load(moco_path+\"/moco.nii.gz\")"
   ]
  },
  {
   "cell_type": "markdown",
   "id": "d63ca0ff-7901-453d-b007-a91f106852de",
   "metadata": {},
   "source": [
    "### 3e. Coregistration"
   ]
  },
  {
   "cell_type": "code",
   "execution_count": null,
   "id": "24928544",
   "metadata": {},
   "outputs": [],
   "source": [
    "epi_source = moco_path + \"/moco.nii.gz\"\n",
    "coreg_path = 'home/joyvan/Data/group_project/coreg'\n",
    "mkdir_no_exist(coreg_path)\n",
    "\n",
    "ref_vol_name = moco_path + '/moco_vol_middle'\n",
    "mid_vol_index = 568 // 2 #length of sequence = 568\n",
    "fslroi(epi_source, ref_vol_name, str(mid_vol_index), str(1))\n",
    "\n",
    "# T1 and preprocessed-T1 locations\n",
    "whole_t1 = bids_root + '/subject101410/T1w/T1w.nii.gz'\n",
    "skull_stripped_t1 = bids_root + '/subject101410/T1w/T1w_brain.nii.gz'\n",
    "white_matter_segmentation = bids_root + '/subject101410/T1w/T1w_fast_pve_2.nii.gz' # We provide the white matter segmentation\n",
    "\n",
    "# coregistration on middle volume\n",
    "output_path = coreg_path + '/moco_vol_bbr'\n",
    "subprocess.run(['epi_reg','--epi={}'.format(ref_vol_name), '--t1={}'.format(whole_t1), '--t1brain={}'.format(skull_stripped_t1), \n",
    "                '--out={}'.format(output_path),\n",
    "               '--wmseg={}'.format(white_matter_segmentation)])"
   ]
  },
  {
   "cell_type": "code",
   "execution_count": null,
   "id": "0193322a-2a3d-49ee-95db-6f3cb39878d3",
   "metadata": {},
   "outputs": [],
   "source": [
    "# Visualise overlay in FSLeyes\n",
    "fsleyesDisplay.resetOverlays()\n",
    "fsleyesDisplay.load(skull_stripped_t1) #source\n",
    "fsleyesDisplay.load(output_path) #target"
   ]
  },
  {
   "cell_type": "markdown",
   "id": "b2c65f8e-7a6b-4c55-8407-72faccded886",
   "metadata": {},
   "source": [
    "The orientation of the EPI and T1 volume are similar about the centre as seen on the overlay, indicating a good alignment overall. However, there are slight \n",
    "mismatches at the outer edges, likely due to the small differences in the original T1 and brain-mask used to extract skull-stripped volume.\n",
    "We have used white matter masks generated by our segmentation process, so any pre-existing noise in the segmentation mask would have been carried over."
   ]
  },
  {
   "cell_type": "markdown",
   "id": "12bbaeab-baab-49e3-a41e-d0020c47aae6",
   "metadata": {},
   "source": [
    "### 3f. Gaussian Smoothing"
   ]
  },
  {
   "cell_type": "code",
   "execution_count": 12,
   "id": "40451bc8-0e9d-48a8-adf1-85d52b970744",
   "metadata": {},
   "outputs": [
    {
     "name": "stdout",
     "output_type": "stream",
     "text": [
      "Voxel sizes (mm): (2.0, 2.0, 2.0)\n"
     ]
    }
   ],
   "source": [
    "img = nib.load(moco_path+ \"/moco.nii.gz\")\n",
    "voxel_sizes = img.header.get_zooms()\n",
    "print(\"Voxel sizes (mm):\", voxel_sizes[:3]) "
   ]
  },
  {
   "cell_type": "code",
   "execution_count": 10,
   "id": "cdad9f22-a922-4857-93fd-94cc0bac0de8",
   "metadata": {},
   "outputs": [
    {
     "data": {
      "text/plain": [
       "CompletedProcess(args=['fslmaths', '/home/jovyan/Data/group_project/moco_mot_corr/moco.nii.gz', '-s', '1.6986580601324954', '/home/jovyan/Data/group_project/moco_mot_corr/moco_smoothed-4mm.nii.gz'], returncode=0)"
      ]
     },
     "execution_count": 10,
     "metadata": {},
     "output_type": "execute_result"
    }
   ],
   "source": [
    "sigma = 4 / 2.3548 #FWHM = 4mm = 2*2mm\n",
    "img_path = moco_path+ \"/moco.nii.gz\"\n",
    "smoothed_path = img_path.replace('.nii', '_smoothed-4mm.nii')\n",
    "subprocess.run(['fslmaths', img_path, '-s', str(sigma), smoothed_path])\n",
    "#subprocess.Popen(['fsleyes', smoothed_path])"
   ]
  },
  {
   "cell_type": "code",
   "execution_count": 11,
   "id": "79e362dd-dcd8-459b-9d0c-ffcfc645d750",
   "metadata": {},
   "outputs": [
    {
     "name": "stderr",
     "output_type": "stream",
     "text": [
      "\n",
      "(ipykernel_launcher.py:19922): Gdk-WARNING **: 12:17:09.683: gdkdrawable-x11.c:952 drawable is not a pixmap or window\n"
     ]
    }
   ],
   "source": [
    "fsleyesDisplay = FSLeyesServer() \n",
    "fsleyesDisplay.show() \n",
    "fsleyesDisplay.resetOverlays() \n",
    "fsleyesDisplay.load(smoothed_path)"
   ]
  },
  {
   "cell_type": "markdown",
   "id": "5560d109-2b3c-448b-985d-ee31a91e9218",
   "metadata": {},
   "source": [
    "### 4. GLM"
   ]
  },
  {
   "cell_type": "code",
   "execution_count": 18,
   "id": "21090628-784e-4faa-a93c-79960c5febb4",
   "metadata": {},
   "outputs": [
    {
     "data": {
      "text/html": [
       "<div>\n",
       "<style scoped>\n",
       "    .dataframe tbody tr th:only-of-type {\n",
       "        vertical-align: middle;\n",
       "    }\n",
       "\n",
       "    .dataframe tbody tr th {\n",
       "        vertical-align: top;\n",
       "    }\n",
       "\n",
       "    .dataframe thead th {\n",
       "        text-align: right;\n",
       "    }\n",
       "</style>\n",
       "<table border=\"1\" class=\"dataframe\">\n",
       "  <thead>\n",
       "    <tr style=\"text-align: right;\">\n",
       "      <th></th>\n",
       "      <th>onset</th>\n",
       "      <th>duration</th>\n",
       "      <th>condition</th>\n",
       "    </tr>\n",
       "  </thead>\n",
       "  <tbody>\n",
       "    <tr>\n",
       "      <th>0</th>\n",
       "      <td>0.0</td>\n",
       "      <td>8.0</td>\n",
       "      <td>NaN</td>\n",
       "    </tr>\n",
       "    <tr>\n",
       "      <th>1</th>\n",
       "      <td>8.0</td>\n",
       "      <td>3.0</td>\n",
       "      <td>cue</td>\n",
       "    </tr>\n",
       "    <tr>\n",
       "      <th>2</th>\n",
       "      <td>11.0</td>\n",
       "      <td>12.0</td>\n",
       "      <td>rh</td>\n",
       "    </tr>\n",
       "    <tr>\n",
       "      <th>3</th>\n",
       "      <td>23.0</td>\n",
       "      <td>3.0</td>\n",
       "      <td>cue</td>\n",
       "    </tr>\n",
       "    <tr>\n",
       "      <th>4</th>\n",
       "      <td>26.0</td>\n",
       "      <td>12.0</td>\n",
       "      <td>lf</td>\n",
       "    </tr>\n",
       "    <tr>\n",
       "      <th>5</th>\n",
       "      <td>38.0</td>\n",
       "      <td>3.0</td>\n",
       "      <td>cue</td>\n",
       "    </tr>\n",
       "    <tr>\n",
       "      <th>6</th>\n",
       "      <td>41.0</td>\n",
       "      <td>12.0</td>\n",
       "      <td>t</td>\n",
       "    </tr>\n",
       "    <tr>\n",
       "      <th>7</th>\n",
       "      <td>53.0</td>\n",
       "      <td>3.0</td>\n",
       "      <td>cue</td>\n",
       "    </tr>\n",
       "    <tr>\n",
       "      <th>8</th>\n",
       "      <td>56.0</td>\n",
       "      <td>12.0</td>\n",
       "      <td>rf</td>\n",
       "    </tr>\n",
       "    <tr>\n",
       "      <th>9</th>\n",
       "      <td>68.0</td>\n",
       "      <td>3.0</td>\n",
       "      <td>cue</td>\n",
       "    </tr>\n",
       "    <tr>\n",
       "      <th>10</th>\n",
       "      <td>71.0</td>\n",
       "      <td>12.0</td>\n",
       "      <td>lh</td>\n",
       "    </tr>\n",
       "    <tr>\n",
       "      <th>11</th>\n",
       "      <td>83.0</td>\n",
       "      <td>15.0</td>\n",
       "      <td>fixation</td>\n",
       "    </tr>\n",
       "    <tr>\n",
       "      <th>12</th>\n",
       "      <td>98.0</td>\n",
       "      <td>3.0</td>\n",
       "      <td>cue</td>\n",
       "    </tr>\n",
       "    <tr>\n",
       "      <th>13</th>\n",
       "      <td>101.0</td>\n",
       "      <td>12.0</td>\n",
       "      <td>t</td>\n",
       "    </tr>\n",
       "    <tr>\n",
       "      <th>14</th>\n",
       "      <td>113.0</td>\n",
       "      <td>3.0</td>\n",
       "      <td>cue</td>\n",
       "    </tr>\n",
       "    <tr>\n",
       "      <th>15</th>\n",
       "      <td>116.0</td>\n",
       "      <td>12.0</td>\n",
       "      <td>lf</td>\n",
       "    </tr>\n",
       "    <tr>\n",
       "      <th>16</th>\n",
       "      <td>128.0</td>\n",
       "      <td>3.0</td>\n",
       "      <td>cue</td>\n",
       "    </tr>\n",
       "    <tr>\n",
       "      <th>17</th>\n",
       "      <td>131.0</td>\n",
       "      <td>12.0</td>\n",
       "      <td>rh</td>\n",
       "    </tr>\n",
       "    <tr>\n",
       "      <th>18</th>\n",
       "      <td>143.0</td>\n",
       "      <td>16.0</td>\n",
       "      <td>fixation</td>\n",
       "    </tr>\n",
       "    <tr>\n",
       "      <th>19</th>\n",
       "      <td>159.0</td>\n",
       "      <td>3.0</td>\n",
       "      <td>cue</td>\n",
       "    </tr>\n",
       "    <tr>\n",
       "      <th>20</th>\n",
       "      <td>162.0</td>\n",
       "      <td>12.0</td>\n",
       "      <td>lh</td>\n",
       "    </tr>\n",
       "    <tr>\n",
       "      <th>21</th>\n",
       "      <td>174.0</td>\n",
       "      <td>3.0</td>\n",
       "      <td>cue</td>\n",
       "    </tr>\n",
       "    <tr>\n",
       "      <th>22</th>\n",
       "      <td>177.0</td>\n",
       "      <td>12.0</td>\n",
       "      <td>rf</td>\n",
       "    </tr>\n",
       "    <tr>\n",
       "      <th>23</th>\n",
       "      <td>189.0</td>\n",
       "      <td>15.5</td>\n",
       "      <td>fixation</td>\n",
       "    </tr>\n",
       "    <tr>\n",
       "      <th>24</th>\n",
       "      <td>0.0</td>\n",
       "      <td>8.0</td>\n",
       "      <td>NaN</td>\n",
       "    </tr>\n",
       "    <tr>\n",
       "      <th>25</th>\n",
       "      <td>8.0</td>\n",
       "      <td>3.0</td>\n",
       "      <td>cue</td>\n",
       "    </tr>\n",
       "    <tr>\n",
       "      <th>26</th>\n",
       "      <td>11.0</td>\n",
       "      <td>12.0</td>\n",
       "      <td>lh</td>\n",
       "    </tr>\n",
       "    <tr>\n",
       "      <th>27</th>\n",
       "      <td>23.0</td>\n",
       "      <td>3.0</td>\n",
       "      <td>cue</td>\n",
       "    </tr>\n",
       "    <tr>\n",
       "      <th>28</th>\n",
       "      <td>26.0</td>\n",
       "      <td>12.0</td>\n",
       "      <td>rf</td>\n",
       "    </tr>\n",
       "    <tr>\n",
       "      <th>29</th>\n",
       "      <td>38.0</td>\n",
       "      <td>15.0</td>\n",
       "      <td>fixation</td>\n",
       "    </tr>\n",
       "    <tr>\n",
       "      <th>30</th>\n",
       "      <td>53.0</td>\n",
       "      <td>3.0</td>\n",
       "      <td>cue</td>\n",
       "    </tr>\n",
       "    <tr>\n",
       "      <th>31</th>\n",
       "      <td>56.0</td>\n",
       "      <td>12.0</td>\n",
       "      <td>t</td>\n",
       "    </tr>\n",
       "    <tr>\n",
       "      <th>32</th>\n",
       "      <td>68.0</td>\n",
       "      <td>3.0</td>\n",
       "      <td>cue</td>\n",
       "    </tr>\n",
       "    <tr>\n",
       "      <th>33</th>\n",
       "      <td>71.0</td>\n",
       "      <td>12.0</td>\n",
       "      <td>lf</td>\n",
       "    </tr>\n",
       "    <tr>\n",
       "      <th>34</th>\n",
       "      <td>83.0</td>\n",
       "      <td>3.0</td>\n",
       "      <td>cue</td>\n",
       "    </tr>\n",
       "    <tr>\n",
       "      <th>35</th>\n",
       "      <td>86.0</td>\n",
       "      <td>12.0</td>\n",
       "      <td>rh</td>\n",
       "    </tr>\n",
       "    <tr>\n",
       "      <th>36</th>\n",
       "      <td>98.0</td>\n",
       "      <td>15.0</td>\n",
       "      <td>fixation</td>\n",
       "    </tr>\n",
       "    <tr>\n",
       "      <th>37</th>\n",
       "      <td>113.0</td>\n",
       "      <td>3.0</td>\n",
       "      <td>cue</td>\n",
       "    </tr>\n",
       "    <tr>\n",
       "      <th>38</th>\n",
       "      <td>116.0</td>\n",
       "      <td>12.0</td>\n",
       "      <td>lh</td>\n",
       "    </tr>\n",
       "    <tr>\n",
       "      <th>39</th>\n",
       "      <td>128.0</td>\n",
       "      <td>3.0</td>\n",
       "      <td>cue</td>\n",
       "    </tr>\n",
       "    <tr>\n",
       "      <th>40</th>\n",
       "      <td>131.0</td>\n",
       "      <td>12.0</td>\n",
       "      <td>t</td>\n",
       "    </tr>\n",
       "    <tr>\n",
       "      <th>41</th>\n",
       "      <td>143.0</td>\n",
       "      <td>3.0</td>\n",
       "      <td>cue</td>\n",
       "    </tr>\n",
       "    <tr>\n",
       "      <th>42</th>\n",
       "      <td>146.0</td>\n",
       "      <td>12.0</td>\n",
       "      <td>rf</td>\n",
       "    </tr>\n",
       "    <tr>\n",
       "      <th>43</th>\n",
       "      <td>158.0</td>\n",
       "      <td>4.0</td>\n",
       "      <td>cue</td>\n",
       "    </tr>\n",
       "    <tr>\n",
       "      <th>44</th>\n",
       "      <td>162.0</td>\n",
       "      <td>12.0</td>\n",
       "      <td>rh</td>\n",
       "    </tr>\n",
       "    <tr>\n",
       "      <th>45</th>\n",
       "      <td>174.0</td>\n",
       "      <td>3.0</td>\n",
       "      <td>cue</td>\n",
       "    </tr>\n",
       "    <tr>\n",
       "      <th>46</th>\n",
       "      <td>177.0</td>\n",
       "      <td>12.0</td>\n",
       "      <td>lf</td>\n",
       "    </tr>\n",
       "    <tr>\n",
       "      <th>47</th>\n",
       "      <td>189.0</td>\n",
       "      <td>15.5</td>\n",
       "      <td>fixation</td>\n",
       "    </tr>\n",
       "  </tbody>\n",
       "</table>\n",
       "</div>"
      ],
      "text/plain": [
       "    onset  duration condition\n",
       "0     0.0       8.0       NaN\n",
       "1     8.0       3.0       cue\n",
       "2    11.0      12.0        rh\n",
       "3    23.0       3.0       cue\n",
       "4    26.0      12.0        lf\n",
       "5    38.0       3.0       cue\n",
       "6    41.0      12.0         t\n",
       "7    53.0       3.0       cue\n",
       "8    56.0      12.0        rf\n",
       "9    68.0       3.0       cue\n",
       "10   71.0      12.0        lh\n",
       "11   83.0      15.0  fixation\n",
       "12   98.0       3.0       cue\n",
       "13  101.0      12.0         t\n",
       "14  113.0       3.0       cue\n",
       "15  116.0      12.0        lf\n",
       "16  128.0       3.0       cue\n",
       "17  131.0      12.0        rh\n",
       "18  143.0      16.0  fixation\n",
       "19  159.0       3.0       cue\n",
       "20  162.0      12.0        lh\n",
       "21  174.0       3.0       cue\n",
       "22  177.0      12.0        rf\n",
       "23  189.0      15.5  fixation\n",
       "24    0.0       8.0       NaN\n",
       "25    8.0       3.0       cue\n",
       "26   11.0      12.0        lh\n",
       "27   23.0       3.0       cue\n",
       "28   26.0      12.0        rf\n",
       "29   38.0      15.0  fixation\n",
       "30   53.0       3.0       cue\n",
       "31   56.0      12.0         t\n",
       "32   68.0       3.0       cue\n",
       "33   71.0      12.0        lf\n",
       "34   83.0       3.0       cue\n",
       "35   86.0      12.0        rh\n",
       "36   98.0      15.0  fixation\n",
       "37  113.0       3.0       cue\n",
       "38  116.0      12.0        lh\n",
       "39  128.0       3.0       cue\n",
       "40  131.0      12.0         t\n",
       "41  143.0       3.0       cue\n",
       "42  146.0      12.0        rf\n",
       "43  158.0       4.0       cue\n",
       "44  162.0      12.0        rh\n",
       "45  174.0       3.0       cue\n",
       "46  177.0      12.0        lf\n",
       "47  189.0      15.5  fixation"
      ]
     },
     "execution_count": 18,
     "metadata": {},
     "output_type": "execute_result"
    }
   ],
   "source": [
    "events_LR = pd.read_csv('events_LR.csv')\n",
    "events_RL = pd.read_csv('events_RL.csv')\n",
    "events = pd.concat([events_LR, events_RL], ignore_index=True)\n",
    "events"
   ]
  },
  {
   "cell_type": "code",
   "execution_count": 19,
   "id": "02d5b409-e15f-413a-bfb3-a25fa787facc",
   "metadata": {},
   "outputs": [],
   "source": [
    "events['condition'] = events['condition'].fillna('start')"
   ]
  },
  {
   "cell_type": "code",
   "execution_count": null,
   "id": "06d150b2-8f58-432d-8d4e-424600896707",
   "metadata": {},
   "outputs": [],
   "source": [
    "from nilearn.glm.first_level import make_first_level_design_matrix, FirstLevelModel\n",
    "\n",
    "fmri_glm = FirstLevelModel(t_r=0.72,\n",
    "                           noise_model='ar1',\n",
    "                           standardize=False,\n",
    "                           hrf_model='spm',\n",
    "                           drift_model=None,\n",
    "                           high_pass=.01)\n",
    "\n",
    "fmri_glm = fmri_glm.fit(smoothed_path, events)"
   ]
  },
  {
   "cell_type": "code",
   "execution_count": null,
   "id": "68ceb573-e73a-44bc-8968-c1889678377b",
   "metadata": {},
   "outputs": [],
   "source": [
    "smoothed_path"
   ]
  },
  {
   "cell_type": "code",
   "execution_count": null,
   "id": "23206194-effc-40ac-9ca1-1b7ba7100cda",
   "metadata": {},
   "outputs": [],
   "source": [
    "from nilearn.plotting import plot_design_matrix\n",
    "plot_design_matrix(fmri_glm.design_matrices_[0])\n",
    "plt.show()"
   ]
  }
 ],
 "metadata": {
  "kernelspec": {
   "display_name": "Python 3 (ipykernel)",
   "language": "python",
   "name": "python3"
  },
  "language_info": {
   "codemirror_mode": {
    "name": "ipython",
    "version": 3
   },
   "file_extension": ".py",
   "mimetype": "text/x-python",
   "name": "python",
   "nbconvert_exporter": "python",
   "pygments_lexer": "ipython3",
   "version": "3.11.6"
  }
 },
 "nbformat": 4,
 "nbformat_minor": 5
}
