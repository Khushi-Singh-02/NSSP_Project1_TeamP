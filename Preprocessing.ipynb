{
 "cells": [
  {
   "cell_type": "code",
   "execution_count": 1,
   "id": "30c97cc5",
   "metadata": {},
   "outputs": [
    {
     "name": "stdout",
     "output_type": "stream",
     "text": [
      "Requirement already satisfied: antspyx in /opt/conda/lib/python3.11/site-packages (0.5.3)\n",
      "Requirement already satisfied: pandas in /opt/conda/lib/python3.11/site-packages (from antspyx) (2.2.2)\n",
      "Requirement already satisfied: pyyaml in /opt/conda/lib/python3.11/site-packages (from antspyx) (6.0.1)\n",
      "Requirement already satisfied: numpy in /opt/conda/lib/python3.11/site-packages (from antspyx) (1.26.4)\n",
      "Requirement already satisfied: statsmodels in /opt/conda/lib/python3.11/site-packages (from antspyx) (0.14.2)\n",
      "Requirement already satisfied: webcolors in /opt/conda/lib/python3.11/site-packages (from antspyx) (1.13)\n",
      "Requirement already satisfied: matplotlib in /opt/conda/lib/python3.11/site-packages (from antspyx) (3.9.2)\n",
      "Requirement already satisfied: Pillow in /opt/conda/lib/python3.11/site-packages (from antspyx) (10.0.0)\n",
      "Requirement already satisfied: requests in /opt/conda/lib/python3.11/site-packages (from antspyx) (2.31.0)\n",
      "Requirement already satisfied: contourpy>=1.0.1 in /opt/conda/lib/python3.11/site-packages (from matplotlib->antspyx) (1.3.0)\n",
      "Requirement already satisfied: cycler>=0.10 in /opt/conda/lib/python3.11/site-packages (from matplotlib->antspyx) (0.12.1)\n",
      "Requirement already satisfied: fonttools>=4.22.0 in /opt/conda/lib/python3.11/site-packages (from matplotlib->antspyx) (4.53.1)\n",
      "Requirement already satisfied: kiwisolver>=1.3.1 in /opt/conda/lib/python3.11/site-packages (from matplotlib->antspyx) (1.4.7)\n",
      "Requirement already satisfied: packaging>=20.0 in /opt/conda/lib/python3.11/site-packages (from matplotlib->antspyx) (23.2)\n",
      "Requirement already satisfied: pyparsing>=2.3.1 in /opt/conda/lib/python3.11/site-packages (from matplotlib->antspyx) (3.1.4)\n",
      "Requirement already satisfied: python-dateutil>=2.7 in /opt/conda/lib/python3.11/site-packages (from matplotlib->antspyx) (2.8.2)\n",
      "Requirement already satisfied: pytz>=2020.1 in /opt/conda/lib/python3.11/site-packages (from pandas->antspyx) (2023.3)\n",
      "Requirement already satisfied: tzdata>=2022.7 in /opt/conda/lib/python3.11/site-packages (from pandas->antspyx) (2024.1)\n",
      "Requirement already satisfied: charset-normalizer<4,>=2 in /opt/conda/lib/python3.11/site-packages (from requests->antspyx) (3.3.0)\n",
      "Requirement already satisfied: idna<4,>=2.5 in /opt/conda/lib/python3.11/site-packages (from requests->antspyx) (3.4)\n",
      "Requirement already satisfied: urllib3<3,>=1.21.1 in /opt/conda/lib/python3.11/site-packages (from requests->antspyx) (2.0.7)\n",
      "Requirement already satisfied: certifi>=2017.4.17 in /opt/conda/lib/python3.11/site-packages (from requests->antspyx) (2024.8.30)\n",
      "Requirement already satisfied: scipy!=1.9.2,>=1.8 in /opt/conda/lib/python3.11/site-packages (from statsmodels->antspyx) (1.14.1)\n",
      "Requirement already satisfied: patsy>=0.5.6 in /opt/conda/lib/python3.11/site-packages (from statsmodels->antspyx) (0.5.6)\n",
      "Requirement already satisfied: six in /opt/conda/lib/python3.11/site-packages (from patsy>=0.5.6->statsmodels->antspyx) (1.16.0)\n"
     ]
    }
   ],
   "source": [
    "#import libraries\n",
    "%gui wx\n",
    "import sys\n",
    "import os\n",
    "\n",
    "#####################\n",
    "# Import of utils.py functions\n",
    "#####################\n",
    "# Required to get utils.py and access its functions\n",
    "notebook_dir = os.path.abspath(\"\")\n",
    "parent_dir = os.path.abspath(os.path.join(notebook_dir, '..'))\n",
    "sys.path.append(parent_dir)\n",
    "sys.path.append('.')\n",
    "from utils import loadFSL, FSLeyesServer, mkdir_no_exist, interactive_MCQ\n",
    "\n",
    "####################\n",
    "# DIPY_HOME should be set prior to import of dipy to make sure all downloads point to the right folder\n",
    "####################\n",
    "os.environ[\"DIPY_HOME\"] = \"/home/jovyan/Data\"\n",
    "\n",
    "\n",
    "#############################\n",
    "# Loading fsl and freesurfer within Neurodesk\n",
    "# You can find the list of available other modules by clicking on the \"Softwares\" tab on the left\n",
    "#############################\n",
    "import lmod\n",
    "await lmod.purge(force=True)\n",
    "await lmod.load('fsl/6.0.7.4')\n",
    "await lmod.load('freesurfer/7.4.1')\n",
    "await lmod.list()\n",
    "\n",
    "####################\n",
    "# Setup FSL path\n",
    "####################\n",
    "loadFSL()\n",
    "\n",
    "###################\n",
    "# Load all relevant libraries for the lab\n",
    "##################\n",
    "import fsl.wrappers\n",
    "from fsl.wrappers import fslmaths\n",
    "\n",
    "import mne_nirs\n",
    "import nilearn\n",
    "from nilearn.datasets import fetch_development_fmri\n",
    "\n",
    "import mne\n",
    "import mne_nirs\n",
    "import dipy\n",
    "from dipy.data import fetch_bundles_2_subjects, read_bundles_2_subjects\n",
    "import xml.etree.ElementTree as ET\n",
    "import os.path as op\n",
    "import nibabel as nib\n",
    "import glob\n",
    "\n",
    "!pip install antspyx\n",
    "import ants\n",
    "\n",
    "import openneuro\n",
    "from mne.datasets import sample\n",
    "from mne_bids import BIDSPath, read_raw_bids, print_dir_tree, make_report\n",
    "\n",
    "\n",
    "# Useful imports to define the direct download function below\n",
    "import requests\n",
    "import urllib.request\n",
    "from tqdm import tqdm\n",
    "\n",
    "\n",
    "# FSL function wrappers which we will call from python directly\n",
    "from fsl.wrappers import fast, bet\n",
    "from fsl.wrappers.misc import fslroi\n",
    "from fsl.wrappers import flirt\n",
    "\n",
    "# General purpose imports to handle paths, files etc\n",
    "import glob\n",
    "import pandas as pd\n",
    "import numpy as np\n",
    "import json"
   ]
  },
  {
   "cell_type": "code",
   "execution_count": 2,
   "id": "fe0ec8a9",
   "metadata": {},
   "outputs": [
    {
     "name": "stdout",
     "output_type": "stream",
     "text": [
      "True\n",
      "|ds1610/\n",
      "|--- .ipynb_checkpoints/\n",
      "|--- derivatives/\n",
      "|------ preprocessed_data/\n",
      "|--------- subject101410/\n",
      "|--- subject101410/\n",
      "|------ dataset_description.md\n",
      "|------ task-motor_bold.json\n",
      "|------ .ipynb_checkpoints/\n",
      "|------ fMRI/\n",
      "|--------- .ipynb_checkpoints/\n",
      "|--------- tfMRI_MOTOR_LR/\n",
      "|------------ events_LR.csv\n",
      "|------------ tfMRI_MOTOR_LR.nii\n",
      "|--------- tfMRI_MOTOR_RL/\n",
      "|------------ tfMRI_MOTOR_RL.nii\n",
      "|------------ .ipynb_checkpoints/\n"
     ]
    }
   ],
   "source": [
    "#import data\n",
    "sample_path = \"/home/jovyan/Data/dataset\" \n",
    "import os\n",
    "print(os.path.exists(sample_path))\n",
    "dataset_demo= \"ds1610\" \n",
    "bids_root = op.join(os.path.abspath(\"\"),sample_path, dataset_demo) \n",
    "derivatives = op.join(os.path.abspath(\"\"),bids_root, \"derivatives/preprocessed_data/subject101410\") \n",
    "mkdir_no_exist(derivatives)\n",
    "LR_Motor = bids_root + '/subject101410/fMRI/tfMRI_MOTOR_LR/tfMRI_MOTOR_LR.nii' \n",
    "RL_Motor = bids_root + '/subject101410/fMRI/tfMRI_MOTOR_RL/tfMRI_MOTOR_RL.nii' \n",
    "print_dir_tree(bids_root, max_depth=5) "
   ]
  },
  {
   "cell_type": "code",
   "execution_count": 3,
   "id": "6829037c",
   "metadata": {},
   "outputs": [
    {
     "name": "stderr",
     "output_type": "stream",
     "text": [
      "Gtk-Message: 10:16:29.975: Failed to load module \"canberra-gtk-module\"\n"
     ]
    }
   ],
   "source": [
    "#strcutural preporcessing\n",
    "#fsleyesDisplay = FSLeyesServer() \n",
    "#fsleyesDisplay.show() \n",
    "#fsleyesDisplay.resetOverlays() \n",
    "#fsleyesDisplay.load(LR_Motor)"
   ]
  },
  {
   "cell_type": "code",
   "execution_count": 10,
   "id": "acdb9392",
   "metadata": {},
   "outputs": [
    {
     "name": "stdout",
     "output_type": "stream",
     "text": [
      "(91, 109, 91, 284)\n",
      "(91, 109, 91, 284)\n",
      "11232342.0\n",
      "10685729.0\n"
     ]
    }
   ],
   "source": [
    "#functional preprocessing\n",
    "import nibabel as nib\n",
    "import numpy as np\n",
    "import os\n",
    "\n",
    "def load_img_data(path):\n",
    "    img = nib.load(path)\n",
    "    data = img.get_fdata(dtype=np.float32)  # shape = (X, Y, Z, T)\n",
    "    return img, data\n",
    "\n",
    "def brain_mask_from_nonzero(data, threshold=1e-6):\n",
    "    \"\"\"\n",
    "    Create a brain mask based on voxels with mean absolute intensity > threshold.\n",
    "    The threshold is tiny, so it excludes background zeros but keeps all real voxels.\n",
    "    \"\"\"\n",
    "    mean_signal = np.mean(np.abs(data), axis=3)\n",
    "    mask = mean_signal > threshold\n",
    "    return mask\n",
    "\n",
    "def global_variance_over_mask(data, mask):\n",
    "    \"\"\"Compute global variance across all brain voxels and timepoints.\"\"\"\n",
    "    brain_ts = data[mask]  # shape = (n_voxels, T)\n",
    "    return np.var(brain_ts)\n",
    "\n",
    "# ---- File paths ----\n",
    "run1 = LR_Motor\n",
    "run2 = RL_Motor\n",
    "\n",
    "# ---- Load both runs ----\n",
    "img1, d1 = load_img_data(run1)\n",
    "img2, d2 = load_img_data(run2)\n",
    "\n",
    "print(img1.shape)\n",
    "print(img2.shape)\n",
    "\n",
    "print(global_variance_over_mask(d1, mask1))\n",
    "print(global_variance_over_mask(d2, mask2))"
   ]
  },
  {
   "cell_type": "code",
   "execution_count": 5,
   "id": "43f69833-2ca2-49cd-8e9e-bf8d053dfe84",
   "metadata": {},
   "outputs": [
    {
     "name": "stdout",
     "output_type": "stream",
     "text": [
      "0.99999756\n",
      "1.0000005\n"
     ]
    }
   ],
   "source": [
    "# ---- Make masks (using small threshold) ----\n",
    "mask1 = brain_mask_from_nonzero(d1, threshold=1e-6)\n",
    "mask2 = brain_mask_from_nonzero(d2, threshold=1e-6)\n",
    "\n",
    "# ---- Compute global variance for each run ----\n",
    "var1 = global_variance_over_mask(d1, mask1)\n",
    "var2 = global_variance_over_mask(d2, mask2)\n",
    "\n",
    "# ---- Rescale so variance = 1 ----\n",
    "d1_scaled = d1 / np.sqrt(var1)\n",
    "d2_scaled = d2 / np.sqrt(var2)\n",
    "\n",
    "print(global_variance_over_mask(d1_scaled, mask1))\n",
    "print(global_variance_over_mask(d2_scaled, mask2))\n"
   ]
  },
  {
   "cell_type": "code",
   "execution_count": 13,
   "id": "2e6c119d-646f-42e4-b038-10555be03d3f",
   "metadata": {},
   "outputs": [
    {
     "name": "stdout",
     "output_type": "stream",
     "text": [
      "(91, 109, 91, 568)\n",
      "1.0014294\n"
     ]
    },
    {
     "name": "stderr",
     "output_type": "stream",
     "text": [
      "\n",
      "(ipykernel_launcher.py:1140): GLib-GIO-CRITICAL **: 10:29:59.017: GFileInfo created without standard::is-hidden\n",
      "\n",
      "(ipykernel_launcher.py:1140): GLib-GIO-CRITICAL **: 10:29:59.018: file ../gio/gfileinfo.c: line 1633 (g_file_info_get_is_hidden): should not be reached\n",
      "\n",
      "(ipykernel_launcher.py:1140): GLib-GIO-CRITICAL **: 10:29:59.018: GFileInfo created without standard::is-backup\n",
      "\n",
      "(ipykernel_launcher.py:1140): GLib-GIO-CRITICAL **: 10:29:59.018: file ../gio/gfileinfo.c: line 1655 (g_file_info_get_is_backup): should not be reached\n",
      "\n",
      "(ipykernel_launcher.py:1140): GLib-GIO-CRITICAL **: 10:31:59.034: GFileInfo created without standard::is-hidden\n",
      "\n",
      "(ipykernel_launcher.py:1140): GLib-GIO-CRITICAL **: 10:31:59.034: file ../gio/gfileinfo.c: line 1633 (g_file_info_get_is_hidden): should not be reached\n",
      "\n",
      "(ipykernel_launcher.py:1140): GLib-GIO-CRITICAL **: 10:31:59.034: GFileInfo created without standard::is-backup\n",
      "\n",
      "(ipykernel_launcher.py:1140): GLib-GIO-CRITICAL **: 10:31:59.034: file ../gio/gfileinfo.c: line 1655 (g_file_info_get_is_backup): should not be reached\n",
      "\n",
      "(ipykernel_launcher.py:1140): GLib-GIO-CRITICAL **: 10:33:59.052: GFileInfo created without standard::is-hidden\n",
      "\n",
      "(ipykernel_launcher.py:1140): GLib-GIO-CRITICAL **: 10:33:59.052: file ../gio/gfileinfo.c: line 1633 (g_file_info_get_is_hidden): should not be reached\n",
      "\n",
      "(ipykernel_launcher.py:1140): GLib-GIO-CRITICAL **: 10:33:59.052: GFileInfo created without standard::is-backup\n",
      "\n",
      "(ipykernel_launcher.py:1140): GLib-GIO-CRITICAL **: 10:33:59.052: file ../gio/gfileinfo.c: line 1655 (g_file_info_get_is_backup): should not be reached\n",
      "\n",
      "(ipykernel_launcher.py:1140): GLib-GIO-CRITICAL **: 10:35:59.074: GFileInfo created without standard::is-hidden\n",
      "\n",
      "(ipykernel_launcher.py:1140): GLib-GIO-CRITICAL **: 10:35:59.074: file ../gio/gfileinfo.c: line 1633 (g_file_info_get_is_hidden): should not be reached\n",
      "\n",
      "(ipykernel_launcher.py:1140): GLib-GIO-CRITICAL **: 10:35:59.074: GFileInfo created without standard::is-backup\n",
      "\n",
      "(ipykernel_launcher.py:1140): GLib-GIO-CRITICAL **: 10:35:59.074: file ../gio/gfileinfo.c: line 1655 (g_file_info_get_is_backup): should not be reached\n",
      "\n",
      "(ipykernel_launcher.py:1140): GLib-GIO-CRITICAL **: 10:36:21.117: GFileInfo created without standard::is-hidden\n",
      "\n",
      "(ipykernel_launcher.py:1140): GLib-GIO-CRITICAL **: 10:36:21.117: file ../gio/gfileinfo.c: line 1633 (g_file_info_get_is_hidden): should not be reached\n",
      "\n",
      "(ipykernel_launcher.py:1140): GLib-GIO-CRITICAL **: 10:36:21.117: GFileInfo created without standard::is-backup\n",
      "\n",
      "(ipykernel_launcher.py:1140): GLib-GIO-CRITICAL **: 10:36:21.117: file ../gio/gfileinfo.c: line 1655 (g_file_info_get_is_backup): should not be reached\n"
     ]
    }
   ],
   "source": [
    "# ---- Concatenate along time (4th dimension) ----\n",
    "concat = np.concatenate((d1_scaled, d2_scaled), axis=3)\n",
    "\n",
    "print(concat.shape)\n",
    "print(global_variance_over_mask(concat, mask1))"
   ]
  },
  {
   "cell_type": "code",
   "execution_count": 7,
   "id": "5fe2f544-3e42-4328-b37f-7402975152e1",
   "metadata": {},
   "outputs": [
    {
     "name": "stdout",
     "output_type": "stream",
     "text": [
      "✅ Saved concatenated, variance-normalized fMRI:\n",
      "/home/jovyan/Data/dataset/ds1610/derivatives/preprocessed_data/subject101410/fMRI_motor_concat_var1.nii\n"
     ]
    }
   ],
   "source": [
    "# ---- Save output ----\n",
    "out_path = derivatives+\"/fMRI_motor_concat_var1.nii\"\n",
    "\n",
    "out_img = nib.Nifti1Image(concat, img1.affine, img1.header)\n",
    "out_img.to_filename(out_path)\n",
    "\n",
    "print(f\"✅ Saved concatenated, variance-normalized fMRI:\\n{out_path}\")"
   ]
  },
  {
   "cell_type": "code",
   "execution_count": 9,
   "id": "5eea7cd8-44fb-4592-bb55-2f910bb0eb50",
   "metadata": {},
   "outputs": [
    {
     "name": "stderr",
     "output_type": "stream",
     "text": [
      "\n",
      "(ipykernel_launcher.py:1140): Gdk-WARNING **: 10:24:36.973: gdkdrawable-x11.c:952 drawable is not a pixmap or window\n"
     ]
    },
    {
     "data": {
      "text/plain": [
       "<Figure size 640x480 with 0 Axes>"
      ]
     },
     "metadata": {},
     "output_type": "display_data"
    },
    {
     "data": {
      "text/plain": [
       "<Figure size 640x480 with 0 Axes>"
      ]
     },
     "metadata": {},
     "output_type": "display_data"
    },
    {
     "name": "stderr",
     "output_type": "stream",
     "text": [
      "\n",
      "(ipykernel_launcher.py:1140): GLib-GIO-CRITICAL **: 10:25:58.960: GFileInfo created without standard::is-hidden\n",
      "\n",
      "(ipykernel_launcher.py:1140): GLib-GIO-CRITICAL **: 10:25:58.960: file ../gio/gfileinfo.c: line 1633 (g_file_info_get_is_hidden): should not be reached\n",
      "\n",
      "(ipykernel_launcher.py:1140): GLib-GIO-CRITICAL **: 10:25:58.960: GFileInfo created without standard::is-backup\n",
      "\n",
      "(ipykernel_launcher.py:1140): GLib-GIO-CRITICAL **: 10:25:58.960: file ../gio/gfileinfo.c: line 1655 (g_file_info_get_is_backup): should not be reached\n"
     ]
    }
   ],
   "source": [
    "fsleyesDisplay = FSLeyesServer() \n",
    "fsleyesDisplay.show() \n",
    "fsleyesDisplay.resetOverlays() \n",
    "fsleyesDisplay.load(LR_Motor)"
   ]
  },
  {
   "cell_type": "code",
   "execution_count": null,
   "id": "24928544",
   "metadata": {},
   "outputs": [],
   "source": [
    "#coregistration"
   ]
  },
  {
   "cell_type": "code",
   "execution_count": null,
   "id": "72b7684d",
   "metadata": {},
   "outputs": [],
   "source": [
    "#Gaussian Smoothing"
   ]
  }
 ],
 "metadata": {
  "kernelspec": {
   "display_name": "Python 3 (ipykernel)",
   "language": "python",
   "name": "python3"
  },
  "language_info": {
   "codemirror_mode": {
    "name": "ipython",
    "version": 3
   },
   "file_extension": ".py",
   "mimetype": "text/x-python",
   "name": "python",
   "nbconvert_exporter": "python",
   "pygments_lexer": "ipython3",
   "version": "3.11.6"
  }
 },
 "nbformat": 4,
 "nbformat_minor": 5
}
