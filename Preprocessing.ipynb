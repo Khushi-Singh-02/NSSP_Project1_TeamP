{
 "cells": [
  {
   "cell_type": "code",
   "execution_count": null,
   "id": "30c97cc5",
   "metadata": {},
   "outputs": [],
   "source": [
    "#import libraries"
   ]
  },
  {
   "cell_type": "code",
   "execution_count": null,
   "id": "fe0ec8a9",
   "metadata": {},
   "outputs": [],
   "source": [
    "#import data"
   ]
  },
  {
   "cell_type": "code",
   "execution_count": null,
   "id": "6829037c",
   "metadata": {},
   "outputs": [],
   "source": [
    "#strcutural preporcessing"
   ]
  },
  {
   "cell_type": "code",
   "execution_count": null,
   "id": "acdb9392",
   "metadata": {},
   "outputs": [],
   "source": [
    "#functional preprocessing"
   ]
  },
  {
   "cell_type": "code",
   "execution_count": null,
   "id": "24928544",
   "metadata": {},
   "outputs": [],
   "source": [
    "#coregistration"
   ]
  },
  {
   "cell_type": "code",
   "execution_count": null,
   "id": "72b7684d",
   "metadata": {},
   "outputs": [],
   "source": [
    "#Gaussian Smoothing"
   ]
  }
 ],
 "metadata": {
  "language_info": {
   "name": "python"
  }
 },
 "nbformat": 4,
 "nbformat_minor": 5
}
